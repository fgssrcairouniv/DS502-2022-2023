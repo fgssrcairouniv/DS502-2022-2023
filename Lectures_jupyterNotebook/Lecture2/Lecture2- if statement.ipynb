{
 "cells": [
  {
   "cell_type": "markdown",
   "metadata": {},
   "source": [
    "# <font color=red> Forms Of Control Flow Statement\n",
    "<img src='controlflow.png'>"
   ]
  },
  {
   "cell_type": "markdown",
   "metadata": {},
   "source": [
    "# <font color=red>Flow Control\n",
    "<img src='flow control.png'>\n",
    "    "
   ]
  },
  {
   "cell_type": "markdown",
   "metadata": {},
   "source": [
    "# <font color=blue> Decision Control Flow"
   ]
  },
  {
   "cell_type": "markdown",
   "metadata": {},
   "source": [
    "## <font color=green>Condition Statements\n",
    "### Statement that check the correctness of a certain condition. \n",
    "### Condition may be: \n",
    "### <font color=purple>*   comparison condition</font> \n",
    "    such as (x,y=2,0; x>y)\n",
    "### <font color=purple>*   logical condition</font> \n",
    "    such as (x, y=True, False; x or y)\n",
    "    \n",
    "### <font color=purple>*   complex condition</font> \n",
    "    that contains a mix of compariosn and logical conditions. such as (x=2; y=0; x< 5 and y>6)\n",
    "\n",
    "## <font color=green>Comparson Condition</font>\n",
    "\n",
    "### For example: if x=5 and y=7\n",
    "<img src='comp_op.png'>\n"
   ]
  },
  {
   "cell_type": "code",
   "execution_count": 5,
   "metadata": {},
   "outputs": [
    {
     "data": {
      "text/plain": [
       "False"
      ]
     },
     "execution_count": 5,
     "metadata": {},
     "output_type": "execute_result"
    }
   ],
   "source": [
    "42=='42'"
   ]
  },
  {
   "cell_type": "code",
   "execution_count": 4,
   "metadata": {},
   "outputs": [
    {
     "data": {
      "text/plain": [
       "False"
      ]
     },
     "execution_count": 4,
     "metadata": {},
     "output_type": "execute_result"
    }
   ],
   "source": [
    "\"hello\">\"hi\""
   ]
  },
  {
   "cell_type": "code",
   "execution_count": 6,
   "metadata": {},
   "outputs": [
    {
     "data": {
      "text/plain": [
       "True"
      ]
     },
     "execution_count": 6,
     "metadata": {},
     "output_type": "execute_result"
    }
   ],
   "source": [
    "d=32\n",
    "d!=24"
   ]
  },
  {
   "cell_type": "markdown",
   "metadata": {},
   "source": [
    "## <font color=green> Logical Condition </font>\n",
    "\n",
    "### What is logical operators?\n",
    "<img src='log_op.png'>"
   ]
  },
  {
   "cell_type": "code",
   "execution_count": 10,
   "metadata": {},
   "outputs": [
    {
     "data": {
      "text/plain": [
       "False"
      ]
     },
     "execution_count": 10,
     "metadata": {},
     "output_type": "execute_result"
    }
   ],
   "source": [
    "  not True and True"
   ]
  },
  {
   "cell_type": "markdown",
   "metadata": {},
   "source": [
    "## <font color=green>Complex Operators\n",
    "<img src='mix_op.png'>"
   ]
  },
  {
   "cell_type": "code",
   "execution_count": 12,
   "metadata": {},
   "outputs": [
    {
     "name": "stdout",
     "output_type": "stream",
     "text": [
      "False\n"
     ]
    }
   ],
   "source": [
    "print(2>7 and 4<7 )"
   ]
  },
  {
   "cell_type": "code",
   "execution_count": 13,
   "metadata": {},
   "outputs": [
    {
     "name": "stdout",
     "output_type": "stream",
     "text": [
      "True\n"
     ]
    }
   ],
   "source": [
    "print(2>7 or 4<7 )"
   ]
  },
  {
   "cell_type": "code",
   "execution_count": 14,
   "metadata": {},
   "outputs": [
    {
     "name": "stdout",
     "output_type": "stream",
     "text": [
      "True\n"
     ]
    }
   ],
   "source": [
    "print(2<7 and 4<7 )"
   ]
  },
  {
   "cell_type": "code",
   "execution_count": 15,
   "metadata": {},
   "outputs": [
    {
     "name": "stdout",
     "output_type": "stream",
     "text": [
      "True\n"
     ]
    }
   ],
   "source": [
    "print(not (2>7 or 4>7 ))"
   ]
  },
  {
   "cell_type": "markdown",
   "metadata": {},
   "source": [
    "# <font color=red> The Decision Control Flow Statement (if)\n",
    "<img src='if_forms.png '>"
   ]
  },
  {
   "cell_type": "markdown",
   "metadata": {},
   "source": [
    "# <font color=blue>*if-statement*\n",
    "<img src='if.png'>"
   ]
  },
  {
   "cell_type": "code",
   "execution_count": 16,
   "metadata": {},
   "outputs": [
    {
     "name": "stdout",
     "output_type": "stream",
     "text": [
      "10 is positive number\n"
     ]
    }
   ],
   "source": [
    "x=10\n",
    "if x>0:\n",
    "    print(x, \"is positive number\")\n"
   ]
  },
  {
   "cell_type": "code",
   "execution_count": 17,
   "metadata": {},
   "outputs": [
    {
     "ename": "IndentationError",
     "evalue": "expected an indented block (<ipython-input-17-c4a26eed721d>, line 4)",
     "output_type": "error",
     "traceback": [
      "\u001b[0;36m  File \u001b[0;32m\"<ipython-input-17-c4a26eed721d>\"\u001b[0;36m, line \u001b[0;32m4\u001b[0m\n\u001b[0;31m    print(\"b greater than a\")\u001b[0m\n\u001b[0m        ^\u001b[0m\n\u001b[0;31mIndentationError\u001b[0m\u001b[0;31m:\u001b[0m expected an indented block\n"
     ]
    }
   ],
   "source": [
    "a=33\n",
    "b=200\n",
    "if b>a:\n",
    "print(\"b greater than a\")"
   ]
  },
  {
   "cell_type": "code",
   "execution_count": 25,
   "metadata": {},
   "outputs": [
    {
     "name": "stdout",
     "output_type": "stream",
     "text": [
      "b greater than a\n",
      "\n",
      "main\n"
     ]
    }
   ],
   "source": [
    "a=33\n",
    "b=200\n",
    "if b>a:\n",
    "    print(\"b greater than a\")\n",
    "print(\"\\nmain\")"
   ]
  },
  {
   "cell_type": "markdown",
   "metadata": {},
   "source": [
    "# If you have only one statement to execute, you can put it on the same line as the if statement.\n",
    " ### **if <font color=red> condition:</font> <font color=blue>body**\n",
    " "
   ]
  },
  {
   "cell_type": "code",
   "execution_count": 19,
   "metadata": {},
   "outputs": [
    {
     "name": "stdout",
     "output_type": "stream",
     "text": [
      "b greater than a\n"
     ]
    }
   ],
   "source": [
    "a=33\n",
    "b=200\n",
    "if b>a: print(\"b greater than a\")"
   ]
  },
  {
   "cell_type": "markdown",
   "metadata": {},
   "source": [
    "## <font color=green> Example 1:\n",
    "### Program Reads a Number and Prints a Message If It Is Positive"
   ]
  },
  {
   "cell_type": "code",
   "execution_count": 20,
   "metadata": {},
   "outputs": [
    {
     "name": "stdout",
     "output_type": "stream",
     "text": [
      "enter a number: 234\n",
      "The number entered by the user is a positive number\n"
     ]
    }
   ],
   "source": [
    "number=int(input(\"enter a number: \"))\n",
    "if number>0:\n",
    "    print(\"The number entered by the user is a positive number\")"
   ]
  },
  {
   "cell_type": "markdown",
   "metadata": {},
   "source": [
    "## <font color=green> Example 2:\n",
    "### Program to Read Luggage Weight and Charge the Tax Accordingly"
   ]
  },
  {
   "cell_type": "code",
   "execution_count": 26,
   "metadata": {},
   "outputs": [
    {
     "name": "stdout",
     "output_type": "stream",
     "text": [
      "How many pound does your suitcase weight?45\n",
      "\n",
      "main\n"
     ]
    }
   ],
   "source": [
    "weight=int(input(\"How many pound does your suitcase weight?\"))\n",
    "if weight>=50:\n",
    "    print(f\"There is a $25 surchange for heavy luggage\")\n",
    "    print(\"Thank you\")\n",
    "print(\"\\nmain\")"
   ]
  },
  {
   "cell_type": "markdown",
   "metadata": {},
   "source": [
    "## <font color=green> Example 3:\n",
    "### Write a python program that takes an integer number from the user. Then it prints \"this number is greater than 10\" if the user enters a number >10.\n"
   ]
  },
  {
   "cell_type": "code",
   "execution_count": 28,
   "metadata": {},
   "outputs": [
    {
     "name": "stdout",
     "output_type": "stream",
     "text": [
      "enter an integer number: 12\n",
      "This number is:\n",
      "\tgreater than 10\n",
      "finish\n"
     ]
    }
   ],
   "source": [
    "n=int(input(\"enter an integer number: \"))\n",
    "if n>10:\n",
    "    print(\"This number is:\")\n",
    "    print(\"\\tgreater than 10\")\n",
    "print(\"finish\")"
   ]
  },
  {
   "cell_type": "markdown",
   "metadata": {},
   "source": [
    "## <font color=green> Example 4:\n",
    "### What is the output of the following:\n"
   ]
  },
  {
   "cell_type": "code",
   "execution_count": 29,
   "metadata": {},
   "outputs": [
    {
     "name": "stdout",
     "output_type": "stream",
     "text": [
      "13\n"
     ]
    }
   ],
   "source": [
    "my_int=12\n",
    "num1=12 if my_int==10 else 13\n",
    "print(num1)"
   ]
  },
  {
   "cell_type": "code",
   "execution_count": 31,
   "metadata": {},
   "outputs": [
    {
     "name": "stdout",
     "output_type": "stream",
     "text": [
      "This is task B\n"
     ]
    }
   ],
   "source": [
    "my_int=5\n",
    "print(\"This is task A\" if my_int ==10 else \"This is task B\")"
   ]
  },
  {
   "cell_type": "markdown",
   "metadata": {},
   "source": [
    "## <font color=green> Example 5:\n",
    "### Correct the following Code"
   ]
  },
  {
   "cell_type": "code",
   "execution_count": 32,
   "metadata": {},
   "outputs": [
    {
     "ename": "IndentationError",
     "evalue": "expected an indented block (<ipython-input-32-cccb0895b462>, line 3)",
     "output_type": "error",
     "traceback": [
      "\u001b[0;36m  File \u001b[0;32m\"<ipython-input-32-cccb0895b462>\"\u001b[0;36m, line \u001b[0;32m3\u001b[0m\n\u001b[0;31m    print(\"The number entered by the user is a positive number\")\u001b[0m\n\u001b[0m        ^\u001b[0m\n\u001b[0;31mIndentationError\u001b[0m\u001b[0;31m:\u001b[0m expected an indented block\n"
     ]
    }
   ],
   "source": [
    "number=int(input(\"Enter a number: \"))\n",
    "if number>=0:\n",
    "print(\"The number entered by the user is a positive number\")"
   ]
  },
  {
   "cell_type": "markdown",
   "metadata": {},
   "source": [
    "### <font color=purple>Correction"
   ]
  },
  {
   "cell_type": "code",
   "execution_count": 33,
   "metadata": {},
   "outputs": [
    {
     "name": "stdout",
     "output_type": "stream",
     "text": [
      "Enter a number: -12\n"
     ]
    }
   ],
   "source": [
    "number=int(input(\"Enter a number: \"))\n",
    "if number>=0:\n",
    "    print(\"The number entered by the user is a positive number\")"
   ]
  },
  {
   "cell_type": "markdown",
   "metadata": {},
   "source": [
    "## <font color=green> Example 5:\n",
    "### Correct the following Code"
   ]
  },
  {
   "cell_type": "code",
   "execution_count": 34,
   "metadata": {},
   "outputs": [
    {
     "ename": "IndentationError",
     "evalue": "unexpected indent (<ipython-input-34-e5d75397f9b9>, line 4)",
     "output_type": "error",
     "traceback": [
      "\u001b[0;36m  File \u001b[0;32m\"<ipython-input-34-e5d75397f9b9>\"\u001b[0;36m, line \u001b[0;32m4\u001b[0m\n\u001b[0;31m    print(\"Thank you\")\u001b[0m\n\u001b[0m    ^\u001b[0m\n\u001b[0;31mIndentationError\u001b[0m\u001b[0;31m:\u001b[0m unexpected indent\n"
     ]
    }
   ],
   "source": [
    "weight=int(input(\"How many pound does your suitcase weight?\"))\n",
    "if weight>=50:\n",
    "    print(f\"There is a $25 surchange for heavy luggage\")\n",
    "      print(\"Thank you\")\n",
    "print(\"\\nmain\")"
   ]
  },
  {
   "cell_type": "markdown",
   "metadata": {},
   "source": [
    "### <font color=purple> Correction"
   ]
  },
  {
   "cell_type": "code",
   "execution_count": 35,
   "metadata": {},
   "outputs": [
    {
     "name": "stdout",
     "output_type": "stream",
     "text": [
      "How many pound does your suitcase weight?14\n",
      "\n",
      "main\n"
     ]
    }
   ],
   "source": [
    "weight=int(input(\"How many pound does your suitcase weight?\"))\n",
    "if weight>=50:\n",
    "    print(f\"There is a $25 surchange for heavy luggage\")\n",
    "    print(\"Thank you\")\n",
    "print(\"\\nmain\")"
   ]
  },
  {
   "cell_type": "markdown",
   "metadata": {},
   "source": [
    "# <font color=blue>*if-else statement*\n",
    "<img src='ifelse.png'>"
   ]
  },
  {
   "cell_type": "code",
   "execution_count": null,
   "metadata": {},
   "outputs": [],
   "source": [
    "a=33\n",
    "b=200\n",
    "if b>a: \n",
    "    print(\"b greater than a\")\n",
    "else: \n",
    "    print(\"a is greater than b\")"
   ]
  },
  {
   "cell_type": "markdown",
   "metadata": {},
   "source": [
    "# If you have only one statement to execute, you can put it on the same line as the if/else statement.\n",
    "\n",
    " ### **if <font color=red> condition:</font> <font color=blue>body**\n",
    " ### **else: <font color=blue>body**\n",
    " "
   ]
  },
  {
   "cell_type": "code",
   "execution_count": 36,
   "metadata": {},
   "outputs": [
    {
     "name": "stdout",
     "output_type": "stream",
     "text": [
      "b greater than a\n"
     ]
    }
   ],
   "source": [
    "a=33\n",
    "b=200\n",
    "if b>a: print(\"b greater than a\")\n",
    "else: print(\"a is greater than b\")"
   ]
  },
  {
   "cell_type": "markdown",
   "metadata": {},
   "source": [
    "## <font color=green> Example 1:\n",
    "### Program to Find If a Given Number Is Odd or Even"
   ]
  },
  {
   "cell_type": "code",
   "execution_count": 38,
   "metadata": {},
   "outputs": [
    {
     "name": "stdout",
     "output_type": "stream",
     "text": [
      "Enter a number: 12\n",
      "12 Even number\n"
     ]
    }
   ],
   "source": [
    "number=int(input(\"Enter a number: \"))\n",
    "if number%2==0: \n",
    "    print(f\"{number} is Even number\")\n",
    "else:\n",
    "    print(f\"{number} is Odd number\")"
   ]
  },
  {
   "cell_type": "code",
   "execution_count": 39,
   "metadata": {},
   "outputs": [
    {
     "name": "stdout",
     "output_type": "stream",
     "text": [
      "Enter a number: 41\n",
      "41 Odd number\n"
     ]
    }
   ],
   "source": [
    "number=int(input(\"Enter a number: \"))\n",
    "if number%2==0: print(f\"{number} is Even number\")\n",
    "else: print(f\"{number} is Odd number\")"
   ]
  },
  {
   "cell_type": "markdown",
   "metadata": {},
   "source": [
    "## <font color=green> Example 2:\n",
    "### Program to Find the Greater of Two Numbers\n"
   ]
  },
  {
   "cell_type": "code",
   "execution_count": 46,
   "metadata": {},
   "outputs": [
    {
     "name": "stdout",
     "output_type": "stream",
     "text": [
      "please enter the first number: 1\n",
      "please enter the second number: 5\n",
      "5 is greater than 1\n"
     ]
    }
   ],
   "source": [
    "num1=int(input(\"please enter the first number: \"))\n",
    "num2=int(input(\"please enter the second number: \"))\n",
    "if num1 >num2:\n",
    "    print(f\"{num1} is greater than {num2}\")\n",
    "else:\n",
    "    print(f\"{num2} is greater than {num1}\")"
   ]
  },
  {
   "cell_type": "code",
   "execution_count": 47,
   "metadata": {},
   "outputs": [
    {
     "name": "stdout",
     "output_type": "stream",
     "text": [
      "please enter the first number: 15\n",
      "please enter the second number: 44\n",
      "44 is greater than 15\n"
     ]
    }
   ],
   "source": [
    "num1=int(input(\"please enter the first number: \"))\n",
    "num2=int(input(\"please enter the second number: \"))\n",
    "if num1 >num2: print(f\"{num1} is greater than {num2}\")\n",
    "else: print(f\"{num2} is greater than {num1}\")"
   ]
  },
  {
   "cell_type": "code",
   "execution_count": 45,
   "metadata": {},
   "outputs": [
    {
     "name": "stdout",
     "output_type": "stream",
     "text": [
      "please enter two numbers separated with ', ' 5, 15\n",
      "15 is greater than 5\n"
     ]
    }
   ],
   "source": [
    "num1, num2=map(int, input(\"please enter two numbers separated with ', ' \").split(', '))\n",
    "if num1 >num2:\n",
    "    print(f\"{num1} is greater than {num2}\")\n",
    "else:\n",
    "    print(f\"{num2} is greater than {num1}\")"
   ]
  },
  {
   "cell_type": "markdown",
   "metadata": {},
   "source": [
    "## <font color=green> Example 3:\n",
    "### Write a python program that takes two interger numbers from the user. \n",
    "### Then it divides the first number by the second number if the second number is not equals to zero, otherwise, it prints \"cannot divide by zero\".\n",
    "\n"
   ]
  },
  {
   "cell_type": "code",
   "execution_count": 48,
   "metadata": {},
   "outputs": [
    {
     "name": "stdout",
     "output_type": "stream",
     "text": [
      "please enter the first number: 1\n",
      "please enter the second number: 5\n",
      "0.2\n",
      "finish\n"
     ]
    }
   ],
   "source": [
    "num1=int(input(\"please enter the first number: \"))\n",
    "num2=int(input(\"please enter the second number: \"))\n",
    "if num2==0:\n",
    "    print(\"Cann't divide by zero\")\n",
    "else:\n",
    "    print(num1/num2)\n",
    "print(\"finish\")"
   ]
  },
  {
   "cell_type": "markdown",
   "metadata": {},
   "source": [
    "## <font color=green> Example 4:\n",
    "### Correct the following code\n",
    "\n"
   ]
  },
  {
   "cell_type": "code",
   "execution_count": 49,
   "metadata": {},
   "outputs": [
    {
     "ename": "SyntaxError",
     "evalue": "invalid syntax (<ipython-input-49-2da837a2f36e>, line 5)",
     "output_type": "error",
     "traceback": [
      "\u001b[0;36m  File \u001b[0;32m\"<ipython-input-49-2da837a2f36e>\"\u001b[0;36m, line \u001b[0;32m5\u001b[0m\n\u001b[0;31m    else:\u001b[0m\n\u001b[0m       ^\u001b[0m\n\u001b[0;31mSyntaxError\u001b[0m\u001b[0;31m:\u001b[0m invalid syntax\n"
     ]
    }
   ],
   "source": [
    "number=int(input(\"Enter a number: \"))\n",
    "if number%2==0:\n",
    "    print(f\"{number} is Even number\")\n",
    "print(\"The condition is true\")\n",
    "else:\n",
    "    print(f\"{number} is odd number\")"
   ]
  },
  {
   "cell_type": "markdown",
   "metadata": {},
   "source": [
    "## <font color=purple>Correction"
   ]
  },
  {
   "cell_type": "code",
   "execution_count": 50,
   "metadata": {},
   "outputs": [
    {
     "name": "stdout",
     "output_type": "stream",
     "text": [
      "Enter a number: 12\n",
      "12 is Even number\n",
      "The condition is true\n"
     ]
    }
   ],
   "source": [
    "number=int(input(\"Enter a number: \"))\n",
    "if number%2==0:\n",
    "    print(f\"{number} is Even number\")\n",
    "    print(\"The condition is true\")\n",
    "else:\n",
    "    print(f\"{number} is odd number\")"
   ]
  },
  {
   "cell_type": "markdown",
   "metadata": {},
   "source": [
    "## <font color=green> Example 4:\n",
    "### Correct the following code\n",
    "\n"
   ]
  },
  {
   "cell_type": "code",
   "execution_count": 53,
   "metadata": {},
   "outputs": [
    {
     "ename": "IndentationError",
     "evalue": "unexpected indent (<ipython-input-53-438e5fbf1425>, line 4)",
     "output_type": "error",
     "traceback": [
      "\u001b[0;36m  File \u001b[0;32m\"<ipython-input-53-438e5fbf1425>\"\u001b[0;36m, line \u001b[0;32m4\u001b[0m\n\u001b[0;31m    print(\"The condition is true\")\u001b[0m\n\u001b[0m    ^\u001b[0m\n\u001b[0;31mIndentationError\u001b[0m\u001b[0;31m:\u001b[0m unexpected indent\n"
     ]
    }
   ],
   "source": [
    "number=int(input(\"Enter a number: \"))\n",
    "if number%2==0:\n",
    "    print(f\"{number} is Even number\")\n",
    "      print(\"The condition is true\")\n",
    "else:\n",
    "    print(f\"{number} is odd number\")"
   ]
  },
  {
   "cell_type": "markdown",
   "metadata": {},
   "source": [
    "## <font color=purple>Correction"
   ]
  },
  {
   "cell_type": "code",
   "execution_count": 54,
   "metadata": {},
   "outputs": [
    {
     "name": "stdout",
     "output_type": "stream",
     "text": [
      "Enter a number: 12\n",
      "12 is Even number\n",
      "The condition is true\n"
     ]
    }
   ],
   "source": [
    "number=int(input(\"Enter a number: \"))\n",
    "if number%2==0:\n",
    "    print(f\"{number} is Even number\")\n",
    "    print(\"The condition is true\")\n",
    "else:\n",
    "    print(f\"{number} is odd number\")"
   ]
  },
  {
   "cell_type": "markdown",
   "metadata": {},
   "source": [
    "## <font color=green> Example 4:\n",
    "### Correct the following code\n",
    "\n"
   ]
  },
  {
   "cell_type": "code",
   "execution_count": 55,
   "metadata": {},
   "outputs": [
    {
     "ename": "IndentationError",
     "evalue": "expected an indented block (<ipython-input-55-4e17488b4568>, line 6)",
     "output_type": "error",
     "traceback": [
      "\u001b[0;36m  File \u001b[0;32m\"<ipython-input-55-4e17488b4568>\"\u001b[0;36m, line \u001b[0;32m6\u001b[0m\n\u001b[0;31m    print(f\"{number} is odd number\")\u001b[0m\n\u001b[0m        ^\u001b[0m\n\u001b[0;31mIndentationError\u001b[0m\u001b[0;31m:\u001b[0m expected an indented block\n"
     ]
    }
   ],
   "source": [
    "number=int(input(\"Enter a number: \"))\n",
    "if number%2==0:\n",
    "    print(f\"{number} is Even number\")\n",
    "    print(\"The condition is true\")\n",
    "else:\n",
    "print(f\"{number} is odd number\")"
   ]
  },
  {
   "cell_type": "markdown",
   "metadata": {},
   "source": [
    "## <font color=purple>Correction"
   ]
  },
  {
   "cell_type": "code",
   "execution_count": 50,
   "metadata": {},
   "outputs": [
    {
     "name": "stdout",
     "output_type": "stream",
     "text": [
      "Enter a number: 12\n",
      "12 is Even number\n",
      "The condition is true\n"
     ]
    }
   ],
   "source": [
    "number=int(input(\"Enter a number: \"))\n",
    "if number%2==0:\n",
    "    print(f\"{number} is Even number\")\n",
    "    print(\"The condition is true\")\n",
    "else:\n",
    "    print(f\"{number} is odd number\")"
   ]
  },
  {
   "cell_type": "markdown",
   "metadata": {},
   "source": [
    "## <font color=green> Example 4:\n",
    "### Correct the following code\n",
    "\n"
   ]
  },
  {
   "cell_type": "code",
   "execution_count": 56,
   "metadata": {},
   "outputs": [
    {
     "ename": "IndentationError",
     "evalue": "expected an indented block (<ipython-input-56-688228563103>, line 3)",
     "output_type": "error",
     "traceback": [
      "\u001b[0;36m  File \u001b[0;32m\"<ipython-input-56-688228563103>\"\u001b[0;36m, line \u001b[0;32m3\u001b[0m\n\u001b[0;31m    print(f\"{number} is Even number\")\u001b[0m\n\u001b[0m        ^\u001b[0m\n\u001b[0;31mIndentationError\u001b[0m\u001b[0;31m:\u001b[0m expected an indented block\n"
     ]
    }
   ],
   "source": [
    "number=int(input(\"Enter a number: \"))\n",
    "if number%2==0:\n",
    "print(f\"{number} is Even number\")\n",
    "else:\n",
    "    print(f\"{number} is odd number\")"
   ]
  },
  {
   "cell_type": "markdown",
   "metadata": {},
   "source": [
    "## <font color=purple>Correction"
   ]
  },
  {
   "cell_type": "code",
   "execution_count": 57,
   "metadata": {},
   "outputs": [
    {
     "name": "stdout",
     "output_type": "stream",
     "text": [
      "Enter a number: 4\n",
      "4 is Even number\n"
     ]
    }
   ],
   "source": [
    "number=int(input(\"Enter a number: \"))\n",
    "if number%2==0:\n",
    "    print(f\"{number} is Even number\")\n",
    "else:\n",
    "    print(f\"{number} is odd number\")"
   ]
  },
  {
   "cell_type": "code",
   "execution_count": 58,
   "metadata": {},
   "outputs": [
    {
     "name": "stdout",
     "output_type": "stream",
     "text": [
      "Enter a number: 7\n",
      "7 is odd number\n"
     ]
    }
   ],
   "source": [
    "number=int(input(\"Enter a number: \"))\n",
    "if number%2==0:\n",
    "    print(f\"{number} is Even number\")\n",
    "else:\n",
    "         print(f\"{number} is odd number\")"
   ]
  },
  {
   "cell_type": "markdown",
   "metadata": {},
   "source": [
    "## <font color=green> Example 4:\n",
    "### Correct the following code\n",
    "\n"
   ]
  },
  {
   "cell_type": "code",
   "execution_count": 59,
   "metadata": {},
   "outputs": [
    {
     "ename": "SyntaxError",
     "evalue": "invalid syntax (<ipython-input-59-0276c7e7c15d>, line 4)",
     "output_type": "error",
     "traceback": [
      "\u001b[0;36m  File \u001b[0;32m\"<ipython-input-59-0276c7e7c15d>\"\u001b[0;36m, line \u001b[0;32m4\u001b[0m\n\u001b[0;31m    else number%2 !=0 :\u001b[0m\n\u001b[0m              ^\u001b[0m\n\u001b[0;31mSyntaxError\u001b[0m\u001b[0;31m:\u001b[0m invalid syntax\n"
     ]
    }
   ],
   "source": [
    "number=int(input(\"Enter a number: \"))\n",
    "if number%2==0:\n",
    "    print(f\"{number} is Even number\")\n",
    "else number%2 !=0 :\n",
    "    print(f\"{number} is odd number\")"
   ]
  },
  {
   "cell_type": "markdown",
   "metadata": {},
   "source": [
    "## <font color=purple>Correction"
   ]
  },
  {
   "cell_type": "code",
   "execution_count": 60,
   "metadata": {},
   "outputs": [
    {
     "name": "stdout",
     "output_type": "stream",
     "text": [
      "Enter a number: 45\n",
      "45 is odd number\n"
     ]
    }
   ],
   "source": [
    "number=int(input(\"Enter a number: \"))\n",
    "if number%2==0:\n",
    "    print(f\"{number} is Even number\")\n",
    "else:\n",
    "    print(f\"{number} is odd number\")"
   ]
  },
  {
   "cell_type": "markdown",
   "metadata": {},
   "source": [
    "## <font color=green> Example 4:\n",
    "### Correct the following code\n",
    "\n"
   ]
  },
  {
   "cell_type": "code",
   "execution_count": 61,
   "metadata": {},
   "outputs": [
    {
     "ename": "SyntaxError",
     "evalue": "invalid syntax (<ipython-input-61-21ef46bc10a7>, line 2)",
     "output_type": "error",
     "traceback": [
      "\u001b[0;36m  File \u001b[0;32m\"<ipython-input-61-21ef46bc10a7>\"\u001b[0;36m, line \u001b[0;32m2\u001b[0m\n\u001b[0;31m    else:\u001b[0m\n\u001b[0m       ^\u001b[0m\n\u001b[0;31mSyntaxError\u001b[0m\u001b[0;31m:\u001b[0m invalid syntax\n"
     ]
    }
   ],
   "source": [
    "number=int(input(\"Enter a number: \"))\n",
    "else:\n",
    "    print(f\"{number} is odd number\")"
   ]
  },
  {
   "cell_type": "markdown",
   "metadata": {},
   "source": [
    "## <font color=purple>Correction"
   ]
  },
  {
   "cell_type": "code",
   "execution_count": 63,
   "metadata": {},
   "outputs": [
    {
     "name": "stdout",
     "output_type": "stream",
     "text": [
      "Enter a number: 15\n",
      "15 is odd number\n"
     ]
    }
   ],
   "source": [
    "number=int(input(\"Enter a number: \"))\n",
    "if number%2==0:\n",
    "    print(f\"{number} is Even number\")\n",
    "else:\n",
    "    print(f\"{number} is odd number\")"
   ]
  },
  {
   "cell_type": "markdown",
   "metadata": {},
   "source": [
    "## <font color=green> Example 4:\n",
    "### Correct the following code\n",
    "\n"
   ]
  },
  {
   "cell_type": "code",
   "execution_count": 64,
   "metadata": {},
   "outputs": [
    {
     "ename": "SyntaxError",
     "evalue": "invalid syntax (<ipython-input-64-72c967497e0d>, line 3)",
     "output_type": "error",
     "traceback": [
      "\u001b[0;36m  File \u001b[0;32m\"<ipython-input-64-72c967497e0d>\"\u001b[0;36m, line \u001b[0;32m3\u001b[0m\n\u001b[0;31m    else:\u001b[0m\n\u001b[0m       ^\u001b[0m\n\u001b[0;31mSyntaxError\u001b[0m\u001b[0;31m:\u001b[0m invalid syntax\n"
     ]
    }
   ],
   "source": [
    "number=int(input(\"Enter a number: \"))\n",
    "\n",
    "else:\n",
    "    print(f\"{number} is odd number\")\n",
    "\n",
    "if number%2==0:\n",
    "    print(f\"{number} is Even number\")"
   ]
  },
  {
   "cell_type": "markdown",
   "metadata": {},
   "source": [
    "## <font color=purple>Correction"
   ]
  },
  {
   "cell_type": "code",
   "execution_count": 65,
   "metadata": {},
   "outputs": [
    {
     "name": "stdout",
     "output_type": "stream",
     "text": [
      "Enter a number: 45\n",
      "45 is odd number\n"
     ]
    }
   ],
   "source": [
    "number=int(input(\"Enter a number: \"))\n",
    "if number%2==0:\n",
    "    print(f\"{number} is Even number\")\n",
    "\n",
    "else:\n",
    "    print(f\"{number} is odd number\")"
   ]
  },
  {
   "cell_type": "markdown",
   "metadata": {},
   "source": [
    "## <font color=green> Example 4:\n",
    "### Correct the following code\n",
    "\n"
   ]
  },
  {
   "cell_type": "code",
   "execution_count": 66,
   "metadata": {},
   "outputs": [
    {
     "ename": "SyntaxError",
     "evalue": "invalid syntax (<ipython-input-66-5925f0f5de3d>, line 6)",
     "output_type": "error",
     "traceback": [
      "\u001b[0;36m  File \u001b[0;32m\"<ipython-input-66-5925f0f5de3d>\"\u001b[0;36m, line \u001b[0;32m6\u001b[0m\n\u001b[0;31m    else:\u001b[0m\n\u001b[0m       ^\u001b[0m\n\u001b[0;31mSyntaxError\u001b[0m\u001b[0;31m:\u001b[0m invalid syntax\n"
     ]
    }
   ],
   "source": [
    "number=int(input(\"Enter a number: \"))\n",
    "if number%2==0:\n",
    "    print(f\"{number} is Even number\")\n",
    "else:\n",
    "    print(f\"{number} is odd number\")\n",
    "else:\n",
    "    print(\"The second else\")"
   ]
  },
  {
   "cell_type": "markdown",
   "metadata": {},
   "source": [
    "## <font color=purple>Correction"
   ]
  },
  {
   "cell_type": "code",
   "execution_count": 68,
   "metadata": {},
   "outputs": [
    {
     "name": "stdout",
     "output_type": "stream",
     "text": [
      "Enter a number: 45\n",
      "45 is odd number\n"
     ]
    }
   ],
   "source": [
    "number=int(input(\"Enter a number: \"))\n",
    "if number%2==0:\n",
    "    print(f\"{number} is Even number\")\n",
    "else:\n",
    "    print(f\"{number} is odd number\")"
   ]
  },
  {
   "cell_type": "markdown",
   "metadata": {},
   "source": [
    "# <font color=green> inline *if-else* \n",
    "<img src='inlineifelse.png'>"
   ]
  },
  {
   "cell_type": "code",
   "execution_count": 87,
   "metadata": {},
   "outputs": [
    {
     "name": "stdout",
     "output_type": "stream",
     "text": [
      "B\n"
     ]
    }
   ],
   "source": [
    "a=2\n",
    "b=330\n",
    "print(\"A\") if a>b else print(\"B\")"
   ]
  },
  {
   "cell_type": "code",
   "execution_count": 89,
   "metadata": {},
   "outputs": [
    {
     "name": "stdout",
     "output_type": "stream",
     "text": [
      "B\n"
     ]
    }
   ],
   "source": [
    "a=2\n",
    "b=330\n",
    "print(\"A\" if a>b else \"B\")"
   ]
  },
  {
   "cell_type": "code",
   "execution_count": 92,
   "metadata": {},
   "outputs": [
    {
     "name": "stdout",
     "output_type": "stream",
     "text": [
      "B\n"
     ]
    }
   ],
   "source": [
    "a=2\n",
    "b=330 \n",
    "if a>b:\n",
    "    print(\"A\")\n",
    "else:\n",
    "    print(\"B\")"
   ]
  },
  {
   "cell_type": "code",
   "execution_count": 90,
   "metadata": {},
   "outputs": [
    {
     "name": "stdout",
     "output_type": "stream",
     "text": [
      "B\n"
     ]
    }
   ],
   "source": [
    "a=2\n",
    "b=330\n",
    "x=\"A\" if a>b else \"B\"\n",
    "print(x)"
   ]
  },
  {
   "cell_type": "code",
   "execution_count": 91,
   "metadata": {},
   "outputs": [
    {
     "name": "stdout",
     "output_type": "stream",
     "text": [
      "hello False\n"
     ]
    }
   ],
   "source": [
    "a=2\n",
    "b=330\n",
    "x='hello'\n",
    "x+=' True' if a>b else \" False\"\n",
    "print(x)"
   ]
  },
  {
   "cell_type": "markdown",
   "metadata": {},
   "source": [
    "# <font color=blue>*if-elif statement*\n",
    "<img src='if-elif.png'>"
   ]
  },
  {
   "cell_type": "code",
   "execution_count": 70,
   "metadata": {},
   "outputs": [
    {
     "name": "stdout",
     "output_type": "stream",
     "text": [
      "age >2000\n"
     ]
    }
   ],
   "source": [
    "name='Carol'\n",
    "age=3000\n",
    "if name=='Alice':\n",
    "    print('Hello Alice')\n",
    "elif age<12:\n",
    "    print('you are not Alice')\n",
    "elif age>2000:\n",
    "    print(\"age >2000\")\n",
    "elif age>100:\n",
    "    print(\"age>100\")"
   ]
  },
  {
   "cell_type": "markdown",
   "metadata": {},
   "source": [
    "# <font color=blue>*if ... elif ... else statement*\n",
    "<img src='if-elif-else.png'>"
   ]
  },
  {
   "cell_type": "code",
   "execution_count": 73,
   "metadata": {},
   "outputs": [
    {
     "name": "stdout",
     "output_type": "stream",
     "text": [
      "b greater than a\n"
     ]
    }
   ],
   "source": [
    "a=33\n",
    "b=200\n",
    "if b>a: \n",
    "    print(\"b greater than a\")\n",
    "elif a==b:\n",
    "    print(\"a and b are equal\")\n",
    "else: \n",
    "    print(\"a is greater than b\")"
   ]
  },
  {
   "cell_type": "markdown",
   "metadata": {},
   "source": [
    "# If you have only one statement to execute, you can put it on the same line as the if/elif/else statement.\n",
    "\n",
    " ### **if <font color=red> condition:</font> <font color=blue>body**\n",
    " ### **elif <font color=red> condition:</font> <font color=blue>body**\n",
    " ### **else: <font color=blue>body**    \n",
    " "
   ]
  },
  {
   "cell_type": "code",
   "execution_count": 74,
   "metadata": {},
   "outputs": [
    {
     "name": "stdout",
     "output_type": "stream",
     "text": [
      "b greater than a\n"
     ]
    }
   ],
   "source": [
    "a=33\n",
    "b=200\n",
    "if b>a: print(\"b greater than a\")\n",
    "elif a==b: print(\"a and b are equal\")\n",
    "else: print(\"a is greater than b\")"
   ]
  },
  {
   "cell_type": "markdown",
   "metadata": {},
   "source": [
    "## <font color=green> Example 1:\n",
    "<img src='ifelifelseexample.png'>"
   ]
  },
  {
   "cell_type": "code",
   "execution_count": 76,
   "metadata": {},
   "outputs": [
    {
     "name": "stdout",
     "output_type": "stream",
     "text": [
      "Enter your score: 0.3\n",
      "Your Grade is F\n"
     ]
    }
   ],
   "source": [
    "score=float(input(\"Enter your score: \"))\n",
    "if score<0 or score >1:\n",
    "    print(\"Wrong Input!!!\")\n",
    "elif score>=0.9:\n",
    "    print(\"Your Grade is A\")\n",
    "elif score>=0.8:\n",
    "    print(\"Your Grade is B\")\n",
    "elif score>=0.7:\n",
    "    print(\"Your Grade is C\")\n",
    "elif score>=0.6:\n",
    "    print(\"Your Grade is D\")\n",
    "else:\n",
    "    print(\"Your Grade is F\")"
   ]
  },
  {
   "cell_type": "markdown",
   "metadata": {},
   "source": [
    "## <font color=green> Example 2:\n",
    "### Program to display the Cost of Each type of Fruit"
   ]
  },
  {
   "cell_type": "code",
   "execution_count": 78,
   "metadata": {},
   "outputs": [
    {
     "name": "stdout",
     "output_type": "stream",
     "text": [
      "Enter the fruit type: Cherries\n",
      "Cheries are $3.00 a pound\n"
     ]
    }
   ],
   "source": [
    "fruit_type=input(\"Enter the fruit type: \")\n",
    "if fruit_type=='Oranges':\n",
    "    print('oranges are $0.59 a pound')\n",
    "elif fruit_type=='Apples':\n",
    "    print('Apples are $0.32 a pound')\n",
    "elif fruit_type=='Bananas':\n",
    "    print('Bananas are $0.48 a pound')\n",
    "elif fruit_type=='Cherries':\n",
    "    print('Cheries are $3.00 a pound')\n",
    "else:\n",
    "    print(f\"sorry, we are out of {fruit_type}\")"
   ]
  },
  {
   "cell_type": "markdown",
   "metadata": {},
   "source": [
    "# <font color=green> inline *if-elif-else* \n",
    "<img src='inlineifelifelse.png'>"
   ]
  },
  {
   "cell_type": "code",
   "execution_count": 88,
   "metadata": {},
   "outputs": [
    {
     "name": "stdout",
     "output_type": "stream",
     "text": [
      "=\n"
     ]
    }
   ],
   "source": [
    "a=330\n",
    "b=330\n",
    "print(\"A\") if a>b else print(\"=\") if a==b else print(\"B\")"
   ]
  },
  {
   "cell_type": "code",
   "execution_count": 93,
   "metadata": {},
   "outputs": [
    {
     "name": "stdout",
     "output_type": "stream",
     "text": [
      "=\n"
     ]
    }
   ],
   "source": [
    "a=330\n",
    "b=330\n",
    "print(\"A\" if a>b else \"=\" if a==b else \"B\")"
   ]
  },
  {
   "cell_type": "code",
   "execution_count": 94,
   "metadata": {},
   "outputs": [
    {
     "name": "stdout",
     "output_type": "stream",
     "text": [
      "=\n"
     ]
    }
   ],
   "source": [
    "a=330\n",
    "b=330\n",
    " \n",
    "if a>b: \n",
    "    print(\"A\")\n",
    "elif a==b:\n",
    "    print(\"=\") \n",
    "else:\n",
    "    print(\"B\")"
   ]
  },
  {
   "cell_type": "code",
   "execution_count": 96,
   "metadata": {},
   "outputs": [
    {
     "name": "stdout",
     "output_type": "stream",
     "text": [
      "15\n"
     ]
    }
   ],
   "source": [
    "a=330\n",
    "b=330\n",
    "x=10\n",
    "x+=2 if a>b else 5 if a==b else 3\n",
    "print(x)"
   ]
  },
  {
   "cell_type": "markdown",
   "metadata": {},
   "source": [
    "# <font color=blue>Nested *if* statement\n",
    "<img src='nested_if.png'>"
   ]
  },
  {
   "cell_type": "markdown",
   "metadata": {},
   "source": [
    "## <font color=green>General Syntax\n",
    "<img src='general_synnestedif.png'>"
   ]
  },
  {
   "cell_type": "code",
   "execution_count": 83,
   "metadata": {},
   "outputs": [
    {
     "name": "stdout",
     "output_type": "stream",
     "text": [
      "enter a number: 48\n",
      "48 is positive even number\n",
      "finish\n"
     ]
    }
   ],
   "source": [
    "num=int(input(\"enter a number: \"))\n",
    "if num%2==0:\n",
    "    if num>0:\n",
    "        print(\"{:d} is positive even number\".format(num))\n",
    "else:\n",
    "    print(\"odd\")\n",
    "print(\"finish\")"
   ]
  },
  {
   "cell_type": "code",
   "execution_count": 82,
   "metadata": {},
   "outputs": [
    {
     "name": "stdout",
     "output_type": "stream",
     "text": [
      "enter a number: 9\n",
      "9 is positive odd number\n",
      "finish\n"
     ]
    }
   ],
   "source": [
    "num=int(input(\"enter a number: \"))\n",
    "if num%2==0:\n",
    "    print(\"even\")\n",
    "else:\n",
    "    if num>0:\n",
    "        print(\"{:d} is positive odd number\".format(num))\n",
    "print(\"finish\")"
   ]
  },
  {
   "cell_type": "markdown",
   "metadata": {},
   "source": [
    "## <font color=green> Example 1:\n",
    "### Program to Check If a Given Year Is a Leap Year. \n",
    "<img src='nestedifexample.png'>\n",
    "\n"
   ]
  },
  {
   "cell_type": "code",
   "execution_count": 86,
   "metadata": {},
   "outputs": [
    {
     "name": "stdout",
     "output_type": "stream",
     "text": [
      "enter a year: 1700\n",
      "1700 is not a leap year\n"
     ]
    }
   ],
   "source": [
    "year=int(input(\"enter a year: \"))\n",
    "if year%4==0:\n",
    "    if year%100==0:\n",
    "        if year%400==0:\n",
    "            print(f'{year} is a leap year')\n",
    "        else: print(f'{year} is not a leap year')\n",
    "    else:\n",
    "        print(f'{year} is a leap year')\n",
    "else:\n",
    "    print(f'{year} is not a leap year')"
   ]
  },
  {
   "cell_type": "code",
   "execution_count": null,
   "metadata": {},
   "outputs": [],
   "source": []
  }
 ],
 "metadata": {
  "kernelspec": {
   "display_name": "Python 3",
   "language": "python",
   "name": "python3"
  },
  "language_info": {
   "codemirror_mode": {
    "name": "ipython",
    "version": 3
   },
   "file_extension": ".py",
   "mimetype": "text/x-python",
   "name": "python",
   "nbconvert_exporter": "python",
   "pygments_lexer": "ipython3",
   "version": "3.7.6"
  }
 },
 "nbformat": 4,
 "nbformat_minor": 4
}
